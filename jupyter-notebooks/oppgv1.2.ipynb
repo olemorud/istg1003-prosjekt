{
 "cells": [
  {
   "cell_type": "code",
   "execution_count": null,
   "id": "5b0a1d58-9936-403b-962e-417e6cabb0fd",
   "metadata": {},
   "outputs": [],
   "source": [
    "import numpy as np\n",
    "import pandas as pd\n",
    "import matplotlib.pyplot as plt\n",
    "import seaborn as sns\n",
    "import math\n",
    "import matplotlib.ticker as ticker\n",
    "\n",
    "from scipy import stats\n",
    "import statsmodels.formula.api as smf\n",
    "import statsmodels.api as sm\n",
    "from IPython.display import display, Markdown"
   ]
  },
  {
   "cell_type": "code",
   "execution_count": null,
   "id": "1a839a01-e07c-41c7-b726-68b343b39377",
   "metadata": {},
   "outputs": [],
   "source": [
    "df = pd.read_csv(\"../lego.population.csv\", sep = \",\", encoding = \"latin1\")"
   ]
  },
  {
   "cell_type": "code",
   "execution_count": null,
   "id": "7f83068c-61c1-477b-93af-76109744e2d6",
   "metadata": {},
   "outputs": [],
   "source": [
    "# Rensking av datasett\n",
    "df2 = df[['Set_Name', 'Theme', 'Pieces', 'Price', 'Pages', 'Minifigures', 'Unique_Pieces', 'Ages']]\n",
    "df2 = df2.dropna()\n",
    "df2['Theme'] = df2['Theme'].astype(str).str.replace(r'[^a-zA-Z0-9\\s-]', '', regex = True)\n",
    "df2['Price'] = df2['Price'].str.replace('\\$', '', regex = True).astype(float)\n",
    "df = False"
   ]
  },
  {
   "cell_type": "markdown",
   "id": "a3e158ee-3038-44cb-9300-ff9f41d8c3f2",
   "metadata": {},
   "source": [
    "# 1. Bli kjent med dataene"
   ]
  },
  {
   "cell_type": "markdown",
   "id": "88bf52a1-713e-4a89-b432-c294d400c4a1",
   "metadata": {},
   "source": [
    "## Scatterplot av alle mulige forklaringsvariabler"
   ]
  },
  {
   "cell_type": "code",
   "execution_count": null,
   "id": "ab6f47c1-4e63-4c18-8537-4361491ad74c",
   "metadata": {
    "scrolled": true
   },
   "outputs": [],
   "source": [
    "# Scatterplot av alle variabler\n",
    "colors=['red', 'orange', 'green', 'darkblue']\n",
    "\n",
    "for i, field in enumerate([\"Pages\", \"Pieces\", \"Unique_Pieces\", \"Minifigures\"]):\n",
    "    display(Markdown(f\"### {field}\"))\n",
    "    plt.scatter(df2[field], df2['Price'], label='Data Points', color=colors[i])\n",
    "    plt.xlabel(field)\n",
    "    plt.ylabel('Price')\n",
    "    plt.title('Kryssplott med regresjonslinje (enkel LR)')\n",
    "    plt.legend()\n",
    "    plt.grid()\n",
    "    plt.show()\n"
   ]
  },
  {
   "cell_type": "markdown",
   "id": "967b4959-e23b-4ba5-b01d-510063ea45b7",
   "metadata": {},
   "source": [
    "## Dyreste brikker, dyreste sider"
   ]
  },
  {
   "cell_type": "code",
   "execution_count": null,
   "id": "ac7eca1d-3ed3-400d-8ea0-fc12cc9776ab",
   "metadata": {
    "scrolled": true
   },
   "outputs": [],
   "source": [
    "fields = [\"Pieces\", \"Pages\", \"Unique_Pieces\"]\n",
    "\n",
    "for field in fields:\n",
    "    df2[f\"Price_Per_{field}\"] = df2['Price'] / df2[field]\n",
    "\n",
    "for field in fields:\n",
    "    display(Markdown(f'## Sorted by Price per {field}'))\n",
    "    display(df2.sort_values(f'Price_Per_{field}'))\n",
    "    \n",
    "    plt.hist(df2[f'Price_Per_{field}'], bins=50, color='skyblue', edgecolor='black')\n",
    "    plt.xlabel(f'Price/{field} [$]')\n",
    "    \n",
    "    plt.yscale('log')\n",
    "    y_ax = plt.gca().yaxis\n",
    "    y_ax.set_major_locator(ticker.FixedLocator([1, 10, 100, 1000]))\n",
    "    y_ax.set_major_formatter(ticker.ScalarFormatter())\n",
    "    \n",
    "    plt.ylabel('')\n",
    "    #plt.gca().set_aspect(1)\n",
    "    plt.show()\n"
   ]
  },
  {
   "cell_type": "markdown",
   "id": "6ebb1795-ceb9-4aef-ae37-ad31db62d984",
   "metadata": {},
   "source": [
    "# 2. Spesifisere en matematisk modell"
   ]
  },
  {
   "cell_type": "markdown",
   "id": "16d3c4dd-c427-47d8-9344-d89f39af28c4",
   "metadata": {},
   "source": [
    "Vi ser en trend i `Pieces`, `Pages`, og `Unique_Pieces` ift. pris. Variasjonene i disse ser noe normalfordelt ut i log-skala. Vi prøver enkel lineær regresjon med disse."
   ]
  },
  {
   "cell_type": "code",
   "execution_count": null,
   "id": "d82af4a9-5f2e-4f3d-b415-a3953cbeae63",
   "metadata": {
    "scrolled": true
   },
   "outputs": [],
   "source": [
    "\n",
    "for field in [\"Pages\", \"Pieces\", \"Unique_Pieces\"]:\n",
    "    model4a = smf.ols(f\"Price ~ {field}\", data = df2)\n",
    "    fit = model4a.fit()\n",
    "\n",
    "    display(Markdown(f\"### {field}\"))\n",
    "    display(fit.summary())\n",
    "\n",
    "    regression_x = np.array(df2[field])\n",
    "    regression_y = fit.params[field] * regression_x + fit.params[field]\n",
    "    \n",
    "    plt.scatter(df2[field], df2['Price'], label='Data Points')\n",
    "    plt.plot(regression_x, regression_y, color='red', label='Regression Line')\n",
    "    plt.xlabel(field)\n",
    "    plt.ylabel('Price')\n",
    "    plt.title('Kryssplott med regresjonslinje (enkel LR)')\n",
    "    plt.legend()\n",
    "    plt.grid()\n",
    "    plt.show()\n",
    "\n",
    "    figure, axis = plt.subplots(1, 2, figsize = (15, 5))\n",
    "    sns.scatterplot(x = fit.fittedvalues, y = fit.resid, ax = axis[0])\n",
    "    axis[0].set_ylabel(\"Residual\")\n",
    "    axis[0].set_xlabel(\"Predikert verdi\")\n",
    "    \n",
    "    sm.qqplot(fit.resid, line = '45', fit = True, ax = axis[1])\n",
    "    axis[1].set_ylabel(\"Kvantiler i residualene\")\n",
    "    axis[1].set_xlabel(\"Kvantiler i normalfordelingen\")\n",
    "    plt.show()"
   ]
  },
  {
   "cell_type": "markdown",
   "id": "056f0874-cc67-442c-b809-90f3ed3260ca",
   "metadata": {},
   "source": [
    "Vi ser at bredden på området for residualer ikke er konstant, så vi prøver å transformere datasettet med `math.log`"
   ]
  },
  {
   "cell_type": "code",
   "execution_count": null,
   "id": "fd03a837-1eef-4363-b6e4-59ef38c9ba1e",
   "metadata": {},
   "outputs": [],
   "source": [
    "# Gir feilmelding dersom vi transformerer mer en én gang\n",
    "assert \"did_transform\" not in locals()\n",
    "\n",
    "for field in [\"Price\", \"Pages\", \"Pieces\", \"Unique_Pieces\", \"Minifigures\"]:\n",
    "    df2[field] = df2[field].apply(math.log)\n",
    "\n",
    "did_transform = True"
   ]
  },
  {
   "cell_type": "markdown",
   "id": "77c056bd-5150-4b7b-8d2c-97c2065ccc75",
   "metadata": {},
   "source": [
    "Vi lager nye modeller med de transformerte dataene"
   ]
  },
  {
   "cell_type": "code",
   "execution_count": null,
   "id": "f38127ca-f438-4717-a558-874e1dfe19e1",
   "metadata": {
    "scrolled": true
   },
   "outputs": [],
   "source": [
    "\n",
    "for field in [\"Pages\", \"Pieces\", \"Unique_Pieces\"]:\n",
    "    model4a = smf.ols(f\"Price ~ {field}\", data = df2)\n",
    "    fit = model4a.fit()\n",
    "\n",
    "    display(Markdown(f\"### {field}\"))\n",
    "    display(fit.summary())\n",
    "\n",
    "    regression_x = np.array(df2[field])\n",
    "    regression_y = fit.params[field] * regression_x + fit.params[field]\n",
    "    \n",
    "    plt.scatter(df2[field], df2['Price'], label='Data Points')\n",
    "    plt.plot(regression_x, regression_y, color='red', label='Regression Line')\n",
    "    plt.xlabel(field)\n",
    "    plt.ylabel('Price')\n",
    "    plt.title('Kryssplott med regresjonslinje (enkel LR)')\n",
    "    plt.legend()\n",
    "    plt.grid()\n",
    "    plt.show()\n",
    "\n",
    "    figure, axis = plt.subplots(1, 2, figsize = (15, 5))\n",
    "    sns.scatterplot(x = fit.fittedvalues, y = fit.resid, ax = axis[0])\n",
    "    axis[0].set_ylabel(\"Residual\")\n",
    "    axis[0].set_xlabel(\"Predikert verdi\")\n",
    "    \n",
    "    sm.qqplot(fit.resid, line = '45', fit = True, ax = axis[1])\n",
    "    axis[1].set_ylabel(\"Kvantiler i residualene\")\n",
    "    axis[1].set_xlabel(\"Kvantiler i normalfordelingen\")\n",
    "    plt.show()"
   ]
  },
  {
   "cell_type": "markdown",
   "id": "f72bc3ac-5b17-4107-8d65-d1977825ff3f",
   "metadata": {},
   "source": [
    "Vi ser at QQ-plottene er mye bedre, og `Pieces` har den beste `Adj. R-squared`.\n",
    "`Price ~ Pieces` er den beste modellen når man ikke tar hensyn til lisens.\n",
    "\n",
    "Vi skal nå se om lisens har en påvirkning på pris."
   ]
  },
  {
   "cell_type": "code",
   "execution_count": null,
   "id": "8e5c385d-5dc5-456b-8c38-02a95037d7b1",
   "metadata": {},
   "outputs": [],
   "source": [
    "# Lager dummy-variabler for hver av kategoriene under\n",
    "\n",
    "licensed = {\n",
    "    'Spider-Man', 'Powerpuff Girls', 'Minions', 'Stranger Things', 'Star Wars', 'Marvel', 'Disney', 'Harry Potter', 'Minecraft',\n",
    "    'Jurassic World', 'Batman', 'DC', 'Trolls World Tour', 'Overwatch', 'LEGO Frozen 2'\n",
    "}\n",
    "\n",
    "not_licensed = {\n",
    "    'Monkie Kid', 'Friends', 'City', 'NINJAGO', 'DUPLO', 'Creator 3-in-1', 'Hidden Side', 'Ideas', 'Classic', 'Powered UP'\n",
    "}\n",
    "\n",
    "uncertain = {\n",
    "    'Unikitty', 'Minifigures', 'THE LEGO MOVIE 2', 'Speed Champions', 'Juniors', 'Creator Expert'\n",
    "}\n",
    "\n",
    "# verifiser at vi har fått med alle temaene i gruppene\n",
    "assert licensed|uncertain|not_licensed == set(df2['Theme'])\n",
    "\n",
    "df2['Category'] = np.where(\n",
    "    df2['Theme'].isin(\n",
    "        licensed\n",
    "    ),\n",
    "    'licensed',\n",
    "    np.where(\n",
    "        df2['Theme'].isin(\n",
    "            not_licensed\n",
    "        ),\n",
    "        'not_licensed',\n",
    "        np.where(\n",
    "            df2['Theme'].isin(\n",
    "                uncertain   \n",
    "            ),\n",
    "            'uncertain',\n",
    "            'unaccounted for'\n",
    "        )\n",
    "    )\n",
    ")\n"
   ]
  },
  {
   "cell_type": "markdown",
   "id": "8c03fe8b-906c-4a2d-9f7b-8a120a701b0f",
   "metadata": {},
   "source": [
    "## Generering og presentasjon av modell"
   ]
  },
  {
   "cell_type": "code",
   "execution_count": null,
   "id": "c430b0e3-21ce-4d09-a23f-c5674d84d173",
   "metadata": {},
   "outputs": [],
   "source": [
    "model = smf.ols(f'Price ~ Pieces * Category' , data = df2)\n",
    "fit   = model.fit()\n",
    "display(fit.summary())\n",
    "\n",
    "# Display linear regression\n",
    "intercept = [fit.params['Category[T.not_licensed]'],        fit.params['Category[T.uncertain]'],        0] + fit.params['Intercept']\n",
    "slope     = [fit.params['Pieces:Category[T.not_licensed]'], fit.params['Pieces:Category[T.uncertain]'], 0] + fit.params['Pieces']\n",
    "\n",
    "for i, theme in enumerate([not_licensed, uncertain, licensed]):\n",
    "    subset = df2[df2['Theme'].isin(theme)]\n",
    "    regression_x = np.array(subset['Pieces'])\n",
    "    regression_y = slope[i] * regression_x + intercept[i]\n",
    "\n",
    "    # Plot scatter plot and regression line\n",
    "    plt.scatter(subset['Pieces'], subset['Price'], color=plt.cm.tab10(i))\n",
    "    plt.plot(regression_x, regression_y, color=plt.cm.tab10(i), label=theme)\n",
    "\n",
    "# Display\n",
    "display(Markdown('### Kryssplot'))\n",
    "plt.show()\n",
    "\n",
    "# QQ og residualplot\n",
    "figure, axis = plt.subplots(1, 2, figsize = (15, 5))\n",
    "sns.scatterplot(x = fit.fittedvalues, y = fit.resid, ax = axis[0])\n",
    "axis[0].set_ylabel(\"Residual\")\n",
    "axis[0].set_xlabel(\"Predikert verdi\")\n",
    "sm.qqplot(fit.resid, line = '45', fit = True, ax = axis[1])\n",
    "axis[1].set_ylabel(\"Kvantiler i residualene\")\n",
    "axis[1].set_xlabel(\"Kvantiler i normalfordelingen\")\n",
    "\n",
    "display(Markdown('### QQ og residualplot'))\n",
    "plt.show()"
   ]
  },
  {
   "cell_type": "markdown",
   "id": "3117d9f2-7f37-4064-956e-b419712ceb75",
   "metadata": {},
   "source": [
    "```\n",
    "                                      coef  std err       t  P>|t|  [0.025  0.975]\n",
    "Pieces:Category[T.not_licensed]    -0.0451    0.034  -1.342  0.180  -0.111  0.021\n",
    "Pieces:Category[T.uncertain]        0.0868    0.051   1.698  0.090  -0.014  0.187\n",
    "```\n",
    "Vi ser at p-verdiene til `not_licensed` og `uncertain` ikke er gode nok til å forkaste nullhypotesen, vi kan derfor ikke si noe om hvorvidt lisens påvirker pris."
   ]
  },
  {
   "cell_type": "markdown",
   "id": "51495a7a-d684-4b18-bbbb-10d16217cc6b",
   "metadata": {},
   "source": [
    "# 3. Initialisere og tilpasse modellen"
   ]
  },
  {
   "cell_type": "markdown",
   "id": "77e3f4a8-7e36-451f-8484-59a74c8c209a",
   "metadata": {},
   "source": [
    "# 4. Presentere resultater fra den tilpassede modellen"
   ]
  },
  {
   "cell_type": "markdown",
   "id": "f36441ed-1e5d-4ad6-ad54-c5a782ec31eb",
   "metadata": {},
   "source": [
    "# 5. Evaluere om modellen passer til dataene"
   ]
  },
  {
   "cell_type": "code",
   "execution_count": null,
   "id": "c4a70fa8-1919-4fe0-9d99-7c8bec358217",
   "metadata": {},
   "outputs": [],
   "source": []
  },
  {
   "cell_type": "code",
   "execution_count": null,
   "id": "be26912a-21cb-481d-8e18-6a2ef5408f28",
   "metadata": {},
   "outputs": [],
   "source": []
  }
 ],
 "metadata": {
  "kernelspec": {
   "display_name": "Python 3 (ipykernel)",
   "language": "python",
   "name": "python3"
  },
  "language_info": {
   "codemirror_mode": {
    "name": "ipython",
    "version": 3
   },
   "file_extension": ".py",
   "mimetype": "text/x-python",
   "name": "python",
   "nbconvert_exporter": "python",
   "pygments_lexer": "ipython3",
   "version": "3.11.5"
  }
 },
 "nbformat": 4,
 "nbformat_minor": 5
}
